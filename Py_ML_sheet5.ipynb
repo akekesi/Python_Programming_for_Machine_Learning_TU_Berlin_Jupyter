{
 "cells": [
  {
   "cell_type": "markdown",
   "metadata": {},
   "source": [
    "## Before submitting\n",
    "1. Before you turn this problem in, make sure everything runs as expected. First, **restart the kernel** (in the menubar, select Kernel\\Restart) and then **run all cells** (in the menubar, select Cell\\Run All).\n",
    "\n",
    "2. Make sure that no assertions fail or exceptions occur, otherwise points will be subtracted.\\n\",\n",
    "\n",
    "3. After you submit the notebook more tests will be run on your code. The fact that no assertions fail on your computer localy does not guarantee that completed the exercise correctly.\n",
    "\n",
    "4. Please submit only the `*.ipynb` file.\n",
    "\n",
    "5. Make sure you fill in any place that says `YOUR CODE HERE` or \\\"YOUR ANSWER HERE\\\". Edit only between `YOUR CODE HERE` and `END YOUR CODE`.\n",
    "\n",
    "6. Make sure to use Python 3.6 at least."
   ]
  },
  {
   "cell_type": "markdown",
   "metadata": {
    "deletable": false,
    "editable": false,
    "nbgrader": {
     "cell_type": "markdown",
     "checksum": "ed2e488abdb092321e5777d6de002601",
     "grade": false,
     "grade_id": "cell-8c6240920f08e7c8",
     "locked": true,
     "schema_version": 3,
     "solution": false
    }
   },
   "source": [
    "# Sheet 5: Rounding, Overflow, Linear Algebra\n",
    "\n",
    "In this exercise sheet, we look at various sources of numerical overflow when executing Python and numpy code for large input values, and how to efficiently handle them, for example, by using numpy special functions. There are other packages (e.g. `Decimal`) that can handle arbitrary precision but they are very slow so we tend not to use them"
   ]
  },
  {
   "cell_type": "code",
   "execution_count": 1,
   "metadata": {
    "deletable": false,
    "editable": false,
    "nbgrader": {
     "cell_type": "code",
     "checksum": "a57f0ac12de7bf65514a7b621f4ef39e",
     "grade": true,
     "grade_id": "cell-fb7f2038e4baf8c8",
     "locked": true,
     "points": 0,
     "schema_version": 3,
     "solution": false,
     "task": false
    }
   },
   "outputs": [],
   "source": [
    "import utils\n",
    "import numpy as np\n",
    "import itertools\n",
    "import unittest\n",
    "\n",
    "from typing import Union\n",
    "from minified import max_allowed_loops, no_imports\n",
    "\n",
    "t = unittest.TestCase()"
   ]
  },
  {
   "cell_type": "markdown",
   "metadata": {
    "deletable": false,
    "editable": false,
    "nbgrader": {
     "cell_type": "markdown",
     "checksum": "17554158a65f4682d10c806d87941b08",
     "grade": false,
     "grade_id": "cell-7b83d2a6a8025963",
     "locked": true,
     "schema_version": 3,
     "solution": false,
     "task": false
    }
   },
   "source": [
    "## Building a robust \"softplus\" nonlinear function (30 P)\n",
    "\n",
    "The softplus function is defined as:\n",
    "\n",
    "$$\n",
    "\\mathrm{softplus}(x) = \\log(1+\\exp(x)).\n",
    "$$\n",
    "\n",
    "It intervenes as elementary computation in certain machine learning models such as neural networks. Plotting it gives the following curve\n",
    "\n",
    "![plot generated wit desmos](softplus.png)\n",
    "\n",
    "where the function tends to **zero** for very negative input values and tends to the **identity** for very positive input values."
   ]
  },
  {
   "cell_type": "code",
   "execution_count": 2,
   "metadata": {
    "deletable": false,
    "editable": false,
    "nbgrader": {
     "cell_type": "code",
     "checksum": "d6b63e69b46195e21a941171695a6f19",
     "grade": false,
     "grade_id": "cell-b4a5e79e5bed3060",
     "locked": true,
     "schema_version": 3,
     "solution": false,
     "task": false
    }
   },
   "outputs": [],
   "source": [
    "def softplus(z):\n",
    "    return np.log(1 + np.exp(z))"
   ]
  },
  {
   "cell_type": "markdown",
   "metadata": {},
   "source": [
    "We consider an input vector from the module `utils` containing varying values between 1 and 10000. We would like to apply the `softplus` function to all of its element in an element-wise manner."
   ]
  },
  {
   "cell_type": "code",
   "execution_count": 3,
   "metadata": {
    "deletable": false,
    "editable": false,
    "nbgrader": {
     "cell_type": "code",
     "checksum": "551c646afe97e8ec607f5bb23dff82ec",
     "grade": false,
     "grade_id": "cell-b95b2b454d4f3a00",
     "locked": true,
     "schema_version": 3,
     "solution": false,
     "task": false
    }
   },
   "outputs": [
    {
     "name": "stdout",
     "output_type": "stream",
     "text": [
      "[-10000, -1000, -800, -700, -500, -100, -10, -1, 0, 1, 10, 100, 500, 700, 800, 1000, 10000]\n"
     ]
    }
   ],
   "source": [
    "X = utils.softplus_inputs\n",
    "print(X)"
   ]
  },
  {
   "cell_type": "markdown",
   "metadata": {},
   "source": [
    "We choose these large values in order to test whether the behavior of the function is correct in all regimes of the function, in particular, for very small or very large values. The code below applies the `softplus` function directly to the vector of inputs and then prints for all cases the input and the corresponding function output:"
   ]
  },
  {
   "cell_type": "code",
   "execution_count": 4,
   "metadata": {
    "deletable": false,
    "editable": false,
    "nbgrader": {
     "cell_type": "code",
     "checksum": "793b674a8254f9f58e92be636580f459",
     "grade": false,
     "grade_id": "cell-bf597d846e14f0cc",
     "locked": true,
     "schema_version": 3,
     "solution": false,
     "task": false
    }
   },
   "outputs": [
    {
     "name": "stdout",
     "output_type": "stream",
     "text": [
      "softplus(-10000.0000) =      0.0000\n",
      "softplus( -1000.0000) =      0.0000\n",
      "softplus(  -800.0000) =      0.0000\n",
      "softplus(  -700.0000) =      0.0000\n",
      "softplus(  -500.0000) =      0.0000\n",
      "softplus(  -100.0000) =      0.0000\n",
      "softplus(   -10.0000) =      0.0000\n",
      "softplus(    -1.0000) =      0.3133\n",
      "softplus(     0.0000) =      0.6931\n",
      "softplus(     1.0000) =      1.3133\n",
      "softplus(    10.0000) =     10.0000\n",
      "softplus(   100.0000) =    100.0000\n",
      "softplus(   500.0000) =    500.0000\n",
      "softplus(   700.0000) =    700.0000\n",
      "softplus(   800.0000) =         inf\n",
      "softplus(  1000.0000) =         inf\n",
      "softplus( 10000.0000) =         inf\n"
     ]
    },
    {
     "name": "stderr",
     "output_type": "stream",
     "text": [
      "<ipython-input-2-65fe6e33a0df>:2: RuntimeWarning: overflow encountered in exp\n",
      "  return np.log(1 + np.exp(z))\n"
     ]
    }
   ],
   "source": [
    "Y = softplus(X)\n",
    "for x, y in zip(X, Y):\n",
    "    print(f\"softplus({x:11.4f}) = {y:11.4f}\")"
   ]
  },
  {
   "cell_type": "markdown",
   "metadata": {},
   "source": [
    "For large input values, the softplus function returns `inf` whereas analysis of that function tells us that it should compute the **identity**. Let's now try to apply the softplus function one element at a time, to see whether the problem comes from numpy arrays:"
   ]
  },
  {
   "cell_type": "code",
   "execution_count": 5,
   "metadata": {
    "deletable": false,
    "editable": false,
    "nbgrader": {
     "cell_type": "code",
     "checksum": "cff21156c3dffbd3d6a0fdf54d3dbfe0",
     "grade": false,
     "grade_id": "cell-6b58a18af5f12412",
     "locked": true,
     "schema_version": 3,
     "solution": false,
     "task": false
    }
   },
   "outputs": [
    {
     "name": "stdout",
     "output_type": "stream",
     "text": [
      "softplus(-10000.0000) =      0.0000\n",
      "softplus( -1000.0000) =      0.0000\n",
      "softplus(  -800.0000) =      0.0000\n",
      "softplus(  -700.0000) =      0.0000\n",
      "softplus(  -500.0000) =      0.0000\n",
      "softplus(  -100.0000) =      0.0000\n",
      "softplus(   -10.0000) =      0.0000\n",
      "softplus(    -1.0000) =      0.3133\n",
      "softplus(     0.0000) =      0.6931\n",
      "softplus(     1.0000) =      1.3133\n",
      "softplus(    10.0000) =     10.0000\n",
      "softplus(   100.0000) =    100.0000\n",
      "softplus(   500.0000) =    500.0000\n",
      "softplus(   700.0000) =    700.0000\n",
      "softplus(   800.0000) =         inf\n",
      "softplus(  1000.0000) =         inf\n",
      "softplus( 10000.0000) =         inf\n"
     ]
    },
    {
     "name": "stderr",
     "output_type": "stream",
     "text": [
      "<ipython-input-2-65fe6e33a0df>:2: RuntimeWarning: overflow encountered in exp\n",
      "  return np.log(1 + np.exp(z))\n"
     ]
    }
   ],
   "source": [
    "for x in X:\n",
    "    y = softplus(x)\n",
    "    print(f\"softplus({x:11.4f}) = {y:11.4f}\")"
   ]
  },
  {
   "cell_type": "markdown",
   "metadata": {
    "deletable": false,
    "editable": false,
    "nbgrader": {
     "cell_type": "markdown",
     "checksum": "88f17fc65b3a7944395aa4e69f7ab43a",
     "grade": false,
     "grade_id": "cell-a65964405a1d79f2",
     "locked": true,
     "schema_version": 3,
     "solution": false,
     "task": false
    }
   },
   "source": [
    "Unfortunately, the result is the same. We observe that the function stops working somewhere between 700 and 800, even though the input was given in high precision `float64`."
   ]
  },
  {
   "cell_type": "markdown",
   "metadata": {},
   "source": [
    "* Create an alternative function for `softplus_robust` that applies to input scalars (int, float, etc.) and that correctly applies to values that can be much larger than 1000 (e.g. billions or more). Your function can be written in Python directly and does not need numpy parallelization."
   ]
  },
  {
   "cell_type": "code",
   "execution_count": 6,
   "metadata": {
    "deletable": false,
    "nbgrader": {
     "cell_type": "code",
     "checksum": "2a84a58db88086d862a4c8dec73dad92",
     "grade": false,
     "grade_id": "cell-93b1547259c034bf",
     "locked": false,
     "schema_version": 3,
     "solution": true
    }
   },
   "outputs": [],
   "source": [
    "@no_imports\n",
    "def softplus_robust(\n",
    "    x: Union[float, np.float32, np.float64]\n",
    ") -> Union[float, np.float32, np.float64]:\n",
    "    \"\"\"\n",
    "    Numerically stable implementation of softplus function. Will never \n",
    "    overflow to infinity if input is finite\n",
    "    \n",
    "    Args:\n",
    "        x (Union[float, np.float32, np.float64]): The number of which we \n",
    "        want to calculate the softplus value\n",
    "    Returns:\n",
    "        Union[float, np.float32, np.float64]: softplus(x)\n",
    "    \"\"\"\n",
    "    # YOUR CODE HERE\n",
    "    if x > 0:\n",
    "        sp_rob = x+np.log(np.exp(-x)+1) # not inf for x>0\n",
    "    else:\n",
    "        sp_rob = np.log(1+np.exp(x))    # not inf for x<=0\n",
    "    return sp_rob\n",
    "    # YOUR CODE HERE"
   ]
  },
  {
   "cell_type": "code",
   "execution_count": 7,
   "metadata": {
    "deletable": false,
    "editable": false,
    "nbgrader": {
     "cell_type": "code",
     "checksum": "a5874c3a3a58e9cceb23bedb48ff4776",
     "grade": true,
     "grade_id": "cell-fb74b76bf3187fe1",
     "locked": true,
     "points": 15,
     "schema_version": 3,
     "solution": false
    }
   },
   "outputs": [
    {
     "name": "stdout",
     "output_type": "stream",
     "text": [
      "softplus(-10000.0000) =      0.0000\n",
      "softplus( -1000.0000) =      0.0000\n",
      "softplus(  -800.0000) =      0.0000\n",
      "softplus(  -700.0000) =      0.0000\n",
      "softplus(  -500.0000) =      0.0000\n",
      "softplus(  -100.0000) =      0.0000\n",
      "softplus(   -10.0000) =      0.0000\n",
      "softplus(    -1.0000) =      0.3133\n",
      "softplus(     0.0000) =      0.6931\n",
      "softplus(     1.0000) =      1.3133\n",
      "softplus(    10.0000) =     10.0000\n",
      "softplus(   100.0000) =    100.0000\n",
      "softplus(   500.0000) =    500.0000\n",
      "softplus(   700.0000) =    700.0000\n",
      "softplus(   800.0000) =    800.0000\n",
      "softplus(  1000.0000) =   1000.0000\n",
      "softplus( 10000.0000) =  10000.0000\n"
     ]
    }
   ],
   "source": [
    "# Verify your function\n",
    "y_scalar = [softplus_robust(x) for x in X]\n",
    "\n",
    "for x, y in zip(X, y_scalar):\n",
    "    print(\"softplus(%11.4f) = %11.4f\" % (x, y))\n",
    "\n",
    "# the elements can be any of the three\n",
    "t.assertIsInstance(y_scalar[0], (float, np.float32, np.float64))\n",
    "t.assertAlmostEqual(softplus_robust(100000000), 100000000)\n",
    "\n"
   ]
  },
  {
   "cell_type": "code",
   "execution_count": 8,
   "metadata": {
    "deletable": false,
    "editable": false,
    "nbgrader": {
     "cell_type": "code",
     "checksum": "608865528832fb31bb2e0ad3081da57e",
     "grade": true,
     "grade_id": "cell-50572c3826ea36f0",
     "locked": true,
     "points": 0,
     "schema_version": 3,
     "solution": false,
     "task": false
    }
   },
   "outputs": [],
   "source": [
    "# This cell is for grading. Do not delete it"
   ]
  },
  {
   "cell_type": "markdown",
   "metadata": {
    "deletable": false,
    "editable": false,
    "nbgrader": {
     "cell_type": "markdown",
     "checksum": "9413486ee5a1c19161d18c3a0351da74",
     "grade": false,
     "grade_id": "cell-8219628fceff70f5",
     "locked": true,
     "schema_version": 3,
     "solution": false,
     "task": false
    }
   },
   "source": [
    "As we have seen in previous exercise sheets, the problem of functions that apply to scalars only is that they are less efficient than functions that apply to vectors directly. Therefore, we would like to handle the rounding issue directly at the vector level.\n",
    "\n",
    "* Create a new softplus function that applies to vectors and that has the desired behavior for large input values. Your function should be fast for large input vectors. This means that you cannot use loops (including list/dict/set comprehesions) as well as the functions [`map`](https://docs.python.org/3/library/functions.html#map), [`np.vectorize`](https://docs.scipy.org/doc/numpy-1.15.0/reference/generated/numpy.vectorize.html)/[`np.fromiter`](https://docs.scipy.org/doc/numpy/reference/generated/numpy.fromiter.html)/[`np.apply_along_axis`](https://docs.scipy.org/doc/numpy/reference/generated/numpy.apply_along_axis.html) in order to solve this exercise."
   ]
  },
  {
   "cell_type": "code",
   "execution_count": 9,
   "metadata": {
    "deletable": false,
    "nbgrader": {
     "cell_type": "code",
     "checksum": "b768a34a420d30368f5fa9bffb4f9e97",
     "grade": false,
     "grade_id": "cell-c47d1d41d1970a7d",
     "locked": false,
     "schema_version": 3,
     "solution": true
    }
   },
   "outputs": [],
   "source": [
    "@max_allowed_loops(0)\n",
    "@no_imports\n",
    "def softplus_robust_vec(X: \"vector-like\"):\n",
    "    \"\"\"\n",
    "    Vectorized version of the numericaly robust softplus function\n",
    "    \n",
    "    Args:\n",
    "        X (vector-like): A vector (ndim=1) of values on which we want to apply the softplus function.\n",
    "            It is not always a np.ndarray\n",
    "        \n",
    "    Returns:\n",
    "        np.ndarray: A vector (ndim=1) where the ret[i] == softplus_robust(X[i])\n",
    "    \"\"\"\n",
    "    # these are wrong!!!\n",
    "    # return np.array([softplus_robust(x) for x in X])\n",
    "    # return np.array(list(map(softplus_robust, X)))\n",
    "    # return np.vectorize(softplus_robust)(X)\n",
    "    # etc...\n",
    "    # YOUR CODE HERE\n",
    "    Y = np.zeros(len(X))\n",
    "    X = np.array(X)\n",
    "    index_pos = np.argwhere(X>0)                                # position of elements > 0 --> name index\n",
    "    index_neg = np.argwhere(X<=0)                               # position of elements <= 0\n",
    "    Y[index_pos] = X[index_pos]+np.log(np.exp(-X[index_pos])+1) # Y = softplus(x) for x>0\n",
    "    Y[index_neg] = np.log(1+np.exp(X[index_neg]))               # Y = softplus(x) for x<=0\n",
    "    return Y\n",
    "    # YOUR CODE HERE"
   ]
  },
  {
   "cell_type": "code",
   "execution_count": 10,
   "metadata": {
    "deletable": false,
    "editable": false,
    "nbgrader": {
     "cell_type": "code",
     "checksum": "3848bd18fc82539e50883b4de850285d",
     "grade": true,
     "grade_id": "cell-cfd426eaca3d5169",
     "locked": true,
     "points": 15,
     "schema_version": 3,
     "solution": false
    }
   },
   "outputs": [
    {
     "name": "stdout",
     "output_type": "stream",
     "text": [
      "softplus(-10000.0000) =      0.0000\n",
      "softplus( -1000.0000) =      0.0000\n",
      "softplus(  -800.0000) =      0.0000\n",
      "softplus(  -700.0000) =      0.0000\n",
      "softplus(  -500.0000) =      0.0000\n",
      "softplus(  -100.0000) =      0.0000\n",
      "softplus(   -10.0000) =      0.0000\n",
      "softplus(    -1.0000) =      0.3133\n",
      "softplus(     0.0000) =      0.6931\n",
      "softplus(     1.0000) =      1.3133\n",
      "softplus(    10.0000) =     10.0000\n",
      "softplus(   100.0000) =    100.0000\n",
      "softplus(   500.0000) =    500.0000\n",
      "softplus(   700.0000) =    700.0000\n",
      "softplus(   800.0000) =    800.0000\n",
      "softplus(  1000.0000) =   1000.0000\n",
      "softplus( 10000.0000) =  10000.0000\n",
      "Vectorized function needs...\n",
      "The slowest run took 4.18 times longer than the fastest. This could mean that an intermediate result is being cached.\n",
      "863 µs ± 530 µs per loop (mean ± std. dev. of 2 runs, 5 loops each)\n",
      "Python loops need...\n",
      "45.3 ms ± 367 µs per loop (mean ± std. dev. of 2 runs, 5 loops each)\n"
     ]
    }
   ],
   "source": [
    "# Verify your function\n",
    "Y = softplus_robust_vec(X)\n",
    "t.assertIsInstance(Y, np.ndarray)\n",
    "t.assertEqual(Y.dtype, np.float)\n",
    "\n",
    "for tup in zip(X, Y):\n",
    "    print(\"softplus(%11.4f) = %11.4f\" % tup)\n",
    "\n",
    "\"\"\"\n",
    "This is just a demonstration.\n",
    "As long as your vectorized function is consistently faster than the\n",
    "loop implementation, your solution should pass. \n",
    "There are no concrete numbers about the speed-up, but as a reference\n",
    "on our machines the vectorized code needs < 1ms and the one using a loop\n",
    "requires > 20ms\n",
    "\"\"\"\n",
    "RAND_INPUT = np.random.rand(10000)\n",
    "print(\"Vectorized function needs...\")\n",
    "%timeit -r2 -n5 softplus_robust_vec(RAND_INPUT)\n",
    "\n",
    "\n",
    "def vectorize_with_loop(X):\n",
    "    # This is a wrong implementation\n",
    "    return np.array([softplus_robust(x) for x in X])\n",
    "\n",
    "Y_loop = vectorize_with_loop(X)\n",
    "np.testing.assert_allclose(Y, Y_loop)\n",
    "\n",
    "\n",
    "print(\"Python loops need...\")\n",
    "%timeit -r2 -n5 vectorize_with_loop(RAND_INPUT)\n"
   ]
  },
  {
   "cell_type": "markdown",
   "metadata": {
    "deletable": false,
    "nbgrader": {
     "cell_type": "markdown",
     "checksum": "bad07d5a229622853e209552ffe2aef0",
     "grade": true,
     "grade_id": "cell-07217eb1f52f9f3b",
     "locked": false,
     "points": 0,
     "schema_version": 3,
     "solution": true,
     "task": false
    }
   },
   "source": [
    "YOUR ANSWER HERE"
   ]
  },
  {
   "cell_type": "markdown",
   "metadata": {},
   "source": [
    "## Computing a partition function (40 P)\n",
    "\n",
    "\n",
    "\n",
    "We consider a discrete probability distribution of type\n",
    "\n",
    "$$p(\\boldsymbol{x};\\boldsymbol{w}) = \\frac{1}{Z(\\boldsymbol{w})} \\exp(\\boldsymbol{x}^\\top \\boldsymbol{w})$$\n",
    "\n",
    "where $\\boldsymbol{x} \\in \\{-1,1\\}^{10}$ is an observation, and $\\boldsymbol{w} \\in \\mathbb{R}^{10}$ is a vector of parameters. The term $Z(\\boldsymbol{w})$ is called the partition function and is chosen such that the probability distribution sums to 1. That is, the equation:\n",
    "\n",
    "$$\\sum_{\\boldsymbol{x} \\in \\{-1,1\\}^{10}} p(\\boldsymbol{x};\\boldsymbol{w}) = 1$$\n",
    "\n",
    "must be satisfied. Below is a simple method that computes the log of the partition function $Z(\\boldsymbol{w})$ for various choices of parameter vectors. The considered parameters (`w_small`, `w_medium`, and `w_large`) are increasingly large (and thus problematic), and can be found in the file `utils.py`."
   ]
  },
  {
   "cell_type": "code",
   "execution_count": 11,
   "metadata": {},
   "outputs": [],
   "source": [
    "def generate_all_observations() -> np.ndarray:\n",
    "    \"\"\"\n",
    "    All x in { -1,1 }^10 (vectors with 10 elements where each element \n",
    "    containts either -1 or 1)\n",
    "    \n",
    "    Returns:\n",
    "        np.ndarray : All valid obvervations\n",
    "    \"\"\"\n",
    "    return np.array(tuple(itertools.product([-1.0, 1.0], repeat=10)))\n",
    "\n",
    "\n",
    "def calc_logZ(w: np.ndarray) -> float:\n",
    "    \"\"\"\n",
    "    Calculates the log of the partition function Z\n",
    "    \n",
    "    Args:\n",
    "        w (np.ndarray): A ten element vector (shape=(10,)) of parameters\n",
    "    Returns:\n",
    "        float: The log of the partition function Z\n",
    "    \"\"\"\n",
    "    Z = np.sum(np.exp(generate_all_observations() @ w))\n",
    "    return np.log(Z)\n"
   ]
  },
  {
   "cell_type": "code",
   "execution_count": 12,
   "metadata": {},
   "outputs": [
    {
     "name": "stdout",
     "output_type": "stream",
     "text": [
      "observations shape: (1024, 10)\n",
      "[7.3, 0.01, -0.0, -0.0, -0.54, 0.08, 4.23, 0.03, -0.0, -0.22] | 17.2457\n",
      "[4.34, 1.52, 0.39, 0.14, 1.59, 18.05, -22.02, -0.0, 39.07, 0.35] | 89.5932\n",
      "[-1.53, -0.0, -0.01, 5797.19, -6.65, 18924.71, -69.31, 1.12, 1.04, 116.8] | inf\n"
     ]
    },
    {
     "name": "stderr",
     "output_type": "stream",
     "text": [
      "<ipython-input-11-0cc07e7ea13c>:21: RuntimeWarning: overflow encountered in exp\n",
      "  Z = np.sum(np.exp(generate_all_observations() @ w))\n"
     ]
    }
   ],
   "source": [
    "print(f\"observations shape: {generate_all_observations().shape}\")\n",
    "\n",
    "print([round(w,2) for w in utils.w_small], f\"{calc_logZ(utils.w_small):.4f}\", sep=' | ')\n",
    "print([round(w,2) for w in utils.w_medium], f\"{calc_logZ(utils.w_medium):.4f}\", sep=' | ')\n",
    "print([round(w,2) for w in utils.w_big], f\"{calc_logZ(utils.w_big):.4f}\", sep=' | ')\n",
    "\n"
   ]
  },
  {
   "cell_type": "markdown",
   "metadata": {
    "deletable": false,
    "editable": false,
    "nbgrader": {
     "cell_type": "markdown",
     "checksum": "4810659bac58d6d1b83d61f1713296b8",
     "grade": false,
     "grade_id": "cell-38e507dbcca54902",
     "locked": true,
     "schema_version": 3,
     "solution": false,
     "task": false
    }
   },
   "source": [
    "We can observe from these results, that for parameter vectors with large values (e.g. `utils.w_big`), the exponential function overflows, and thus, we do not obtain a correct value for the logarithm of `Z`.\n",
    "\n",
    "* Implement an improved function  `getlogZ_robust` that avoids the overflow problem, and evaluates the partition function for the same parameters."
   ]
  },
  {
   "cell_type": "code",
   "execution_count": 13,
   "metadata": {
    "deletable": false,
    "nbgrader": {
     "cell_type": "code",
     "checksum": "db617b418e0e527cb3ad6a1d73def9ca",
     "grade": false,
     "grade_id": "cell-00f9c42442638723",
     "locked": false,
     "schema_version": 3,
     "solution": true
    }
   },
   "outputs": [],
   "source": [
    "@no_imports\n",
    "@max_allowed_loops(0)\n",
    "def calc_logZ_robust(w):\n",
    "    # YOUR CODE HERE\n",
    "    \"\"\"\n",
    "    Calculates the log of the partition function Z\n",
    "    \n",
    "    Args:\n",
    "        w (np.ndarray): A ten element vector (shape=(10,)) of parameters\n",
    "    Returns:\n",
    "        float: The log of the partition function Z\n",
    "    \"\"\"\n",
    "    W = generate_all_observations() @ w\n",
    "    W_max = np.max(W)\n",
    "    W_red = W-W_max\n",
    "    Z = np.sum(np.exp(W_red))\n",
    "    return W_max + np.log(Z)\n",
    "    # YOUR CODE HERE"
   ]
  },
  {
   "cell_type": "code",
   "execution_count": 14,
   "metadata": {
    "deletable": false,
    "editable": false,
    "nbgrader": {
     "cell_type": "code",
     "checksum": "f44c1be54af041348b62af187bfea58a",
     "grade": true,
     "grade_id": "cell-4a28c4a0b78d1e03",
     "locked": true,
     "points": 20,
     "schema_version": 3,
     "solution": false
    }
   },
   "outputs": [
    {
     "name": "stdout",
     "output_type": "stream",
     "text": [
      "17.2457\n",
      "89.5932\n",
      "24919.9913\n"
     ]
    }
   ],
   "source": [
    "# Verify your function\n",
    "logZ_small = calc_logZ_robust(utils.w_small)\n",
    "logZ_medium = calc_logZ_robust(utils.w_medium)\n",
    "logZ_big = calc_logZ_robust(utils.w_big)\n",
    "print(f\"{logZ_small:.4f}\")\n",
    "print(f\"{logZ_medium:.4f}\")\n",
    "print(f\"{logZ_big:.4f}\")\n",
    "\n",
    "t.assertAlmostEqual(logZ_small, calc_logZ(utils.w_small))\n",
    "t.assertAlmostEqual(logZ_medium, calc_logZ(utils.w_medium))\n",
    "\n",
    "R = calc_logZ_robust(utils.w_big)\n",
    "t.assertTrue(np.isfinite(R))\n",
    "t.assertTrue(24919 < R < 24920)"
   ]
  },
  {
   "cell_type": "code",
   "execution_count": 15,
   "metadata": {
    "deletable": false,
    "editable": false,
    "nbgrader": {
     "cell_type": "code",
     "checksum": "7f4bd81eec5a000bb16f60857157a62b",
     "grade": true,
     "grade_id": "cell-19f26afe8bb83be6",
     "locked": true,
     "points": 0,
     "schema_version": 3,
     "solution": false,
     "task": false
    }
   },
   "outputs": [],
   "source": [
    "# This cell is for grading. Do not delete it"
   ]
  },
  {
   "cell_type": "markdown",
   "metadata": {},
   "source": [
    "* Evaluate the log-probability of the binary vectors generated by `generate_all_observations`, and return a `np.ndarray` of the indices (starting from 0) of those that have **probability** greater or equal to 0.001."
   ]
  },
  {
   "cell_type": "code",
   "execution_count": 16,
   "metadata": {
    "deletable": false,
    "nbgrader": {
     "cell_type": "code",
     "checksum": "cce9a9447b433679a4b4f1292b4fe999",
     "grade": false,
     "grade_id": "cell-f2f50a11749c5d3e",
     "locked": false,
     "schema_version": 3,
     "solution": true
    }
   },
   "outputs": [],
   "source": [
    "@no_imports\n",
    "@max_allowed_loops(0)\n",
    "def important_indexes(w: np.ndarray, tol: float=0.001) -> np.ndarray:\n",
    "    \"\"\"\n",
    "    Calculates the indexes of important binary vectors for the \n",
    "    parameter vector `w`.\n",
    "    \n",
    "    Args:\n",
    "        w (np.ndarray): The parameter vector of the partition function\n",
    "        tol (float): The probability threshhold\n",
    "        \n",
    "    Returns:\n",
    "        (np.ndarray): The indexes where the probability is greter or equal\n",
    "        to `tol`\n",
    "    \"\"\"\n",
    "    logZ = calc_logZ_robust(w)\n",
    "    # YOUR CODE HERE\n",
    "    W = generate_all_observations() @ w\n",
    "    P = np.exp(W-logZ)\n",
    "    return np.flatnonzero(P >= tol).astype(int)\n",
    "    # YOUR CODE HERE"
   ]
  },
  {
   "cell_type": "code",
   "execution_count": 17,
   "metadata": {
    "deletable": false,
    "editable": false,
    "nbgrader": {
     "cell_type": "code",
     "checksum": "3d7ad1e40e9bf4c9e620dc4ed06ff966",
     "grade": true,
     "grade_id": "cell-89878affaff6ee2e",
     "locked": true,
     "points": 20,
     "schema_version": 3,
     "solution": false
    }
   },
   "outputs": [
    {
     "name": "stdout",
     "output_type": "stream",
     "text": [
      "important indexes -> [ 81  83  85  87 209 211 213 215 337 339 341 343 465 467 469 471 597 599\n",
      " 725 727 853 855 981 983]\n"
     ]
    }
   ],
   "source": [
    "# Verify your function\n",
    "imp_idxs = important_indexes(utils.w_big)\n",
    "print(f\"important indexes -> {imp_idxs}\")\n",
    "t.assertEqual(len(imp_idxs), 24)\n",
    "t.assertEqual(imp_idxs.dtype, int)\n",
    "t.assertEqual(imp_idxs[0], 81)\n",
    "t.assertEqual(imp_idxs[-1], 983)"
   ]
  },
  {
   "cell_type": "markdown",
   "metadata": {},
   "source": [
    "## Probability of generating data from a Gaussian model (30 P)\n",
    "\n",
    "Consider a multivariate Gaussian distribution of mean vector `m` and covariance `S`. The probability associated to a vector `x` is given by:\n",
    "\n",
    "$$\n",
    "p(\\boldsymbol{x};(\\boldsymbol{m},S)) = \\frac{1}{\\sqrt{(2\\pi)^d \\mathrm{det}(S)}} \\exp \\Big( - \\frac12 (\\boldsymbol{x}-\\boldsymbol{m})^\\top S^{-1} (\\boldsymbol{x}-\\boldsymbol{m})\\Big)\n",
    "$$\n",
    "\n",
    "We consider the calculation of the probability of observing a certain dataset \n",
    "\n",
    "$$\n",
    "\\mathcal{D} = (\\boldsymbol{x}^{(1)},\\dots,\\boldsymbol{x}^{(N)})\n",
    "$$\n",
    "\n",
    "assuming the data is generated according to a Gaussian distribution of fixed parameters $\\boldsymbol{m}$ and $S$. Such probability density is given by the formula:\n",
    "\n",
    "$$\n",
    "\\log P(\\mathcal{D};(\\boldsymbol{m},S)) = \\log \\prod_{i=1}^N p(\\boldsymbol{x}^{(i)};(\\boldsymbol{m},S))\n",
    "$$\n",
    "\n",
    "The function below implements such function:"
   ]
  },
  {
   "cell_type": "code",
   "execution_count": 18,
   "metadata": {
    "deletable": false,
    "editable": false,
    "nbgrader": {
     "cell_type": "code",
     "checksum": "58a6c59faacb2744c4d18f32ce4f795d",
     "grade": false,
     "grade_id": "cell-880ff6186ea830d9",
     "locked": true,
     "schema_version": 3,
     "solution": false,
     "task": false
    }
   },
   "outputs": [],
   "source": [
    "def logp(X, m, S):\n",
    "    # Find the number of dimensions from the data vector\n",
    "    d = X.shape[1]\n",
    "\n",
    "    # Invert the covariance matrix\n",
    "    Sinv = np.linalg.inv(S)\n",
    "\n",
    "    # Compute the quadratic terms for all data points\n",
    "    Q = -0.5 * (np.dot(X - m, Sinv) * (X - m)).sum(axis=1)\n",
    "\n",
    "    # Raise them quadratic terms to the exponential\n",
    "    Q = np.exp(Q)\n",
    "\n",
    "    # Divide by the terms in the denominator\n",
    "    P = Q / np.sqrt((2 * np.pi) ** d * np.linalg.det(S))\n",
    "\n",
    "    # Take the product of the probability of each data points\n",
    "    Pprod = np.prod(P)\n",
    "\n",
    "    # Return the log-probability\n",
    "    return np.log(Pprod)"
   ]
  },
  {
   "cell_type": "markdown",
   "metadata": {},
   "source": [
    "Evaluation of this function for various datasets and parameters provided in the file `utils.py` gives the following probabilities:"
   ]
  },
  {
   "cell_type": "code",
   "execution_count": 19,
   "metadata": {
    "deletable": false,
    "editable": false,
    "nbgrader": {
     "cell_type": "code",
     "checksum": "affd17b6bbee3433c3d9df22a571c251",
     "grade": false,
     "grade_id": "cell-29f6ae894deeae7a",
     "locked": true,
     "schema_version": 3,
     "solution": false,
     "task": false
    }
   },
   "outputs": [
    {
     "name": "stdout",
     "output_type": "stream",
     "text": [
      "-24.0532\n",
      "-inf\n",
      "(34, 'Result too large')\n"
     ]
    },
    {
     "name": "stderr",
     "output_type": "stream",
     "text": [
      "<ipython-input-18-e0ec8ea46ac6>:21: RuntimeWarning: divide by zero encountered in log\n",
      "  return np.log(Pprod)\n"
     ]
    }
   ],
   "source": [
    "print(f\"{logp(utils.X1, utils.m1, utils.S1):.4f}\")\n",
    "print(f\"{logp(utils.X2, utils.m2, utils.S2):.4f}\")\n",
    "try :\n",
    "    print(f\"{logp(utils.X3, utils.m3, utils.S3):.4f}\")\n",
    "except OverflowError as error:\n",
    "    print(error)"
   ]
  },
  {
   "cell_type": "markdown",
   "metadata": {},
   "source": [
    "This function is numerically unstable for multiple reasons. The product of many probabilities, the inversion of a large covariance matrix, and the computation of its determinant, are all potential causes for overflow. Thus, we would like to find a numerically robust way of performing each of these.\n",
    "\n",
    "* Implement a numerically stable version of the function `logp`\n",
    "* Evaluate it on the same datasets and parameters as the function `logp`"
   ]
  },
  {
   "cell_type": "code",
   "execution_count": 20,
   "metadata": {
    "deletable": false,
    "nbgrader": {
     "cell_type": "code",
     "checksum": "122d6f6e772948eba513720ed582d007",
     "grade": false,
     "grade_id": "cell-a020bd733a8339e3",
     "locked": false,
     "schema_version": 3,
     "solution": true
    }
   },
   "outputs": [],
   "source": [
    "@no_imports\n",
    "@max_allowed_loops(0)\n",
    "def logp_robust(X: np.ndarray, m: np.ndarray, S: np.ndarray):\n",
    "    \"\"\"\n",
    "    Numerically robust implemenation of `logp` function\n",
    "    \n",
    "    Returns:\n",
    "        (float): The logp probability density\n",
    "        just like in pdf\n",
    "    \"\"\"\n",
    "    N,d = X.shape\n",
    "    D_ = (X - m[np.newaxis])[0]\n",
    "    A = np.linalg.solve(S,D_.T)\n",
    "    S_inv = np.linalg.inv(S) # --> you can imporve inv too\n",
    "    S_det = np.linalg.det(S) # --> you can improve det too\n",
    "    return -1/2*(N*d*np.log(2*np.pi)+N*np.log(S_det)+np.trace(D_@A))\n",
    "    # YOUR CODE HERE"
   ]
  },
  {
   "cell_type": "code",
   "execution_count": 21,
   "metadata": {
    "deletable": false,
    "editable": false,
    "nbgrader": {
     "cell_type": "code",
     "checksum": "069bfa98fe3e101d5114acc5ffc00f03",
     "grade": true,
     "grade_id": "cell-4f1273a1bd8fc128",
     "locked": true,
     "points": 30,
     "schema_version": 3,
     "solution": false
    }
   },
   "outputs": [
    {
     "name": "stdout",
     "output_type": "stream",
     "text": [
      "-24.0532\n",
      "-2975.2363\n",
      "-266010.0438\n",
      "\n",
      "all log propabilities values below zero 😀\n"
     ]
    }
   ],
   "source": [
    "# Verify your function\n",
    "logp1 = logp_robust(utils.X1, utils.m1, utils.S1)\n",
    "logp2 = logp_robust(utils.X2, utils.m2, utils.S2)\n",
    "logp3 = logp_robust(utils.X3, utils.m3, utils.S3)\n",
    "\n",
    "print(f\"{logp1:.4f}\")\n",
    "print(f\"{logp2:.4f}\")\n",
    "print(f\"{logp3:.4f}\")\n",
    "\n",
    "\n",
    "outputs = np.array((logp1, logp2, logp3))\n",
    "t.assertTrue(np.isfinite(outputs).all())\n",
    "t.assertTrue(np.all(outputs < 0))\n",
    "print(\"\\nall log propabilities values below zero 😀\")\n",
    "t.assertTrue(-25 < logp1 < -24)\n",
    "t.assertTrue(-2976 < logp2 < -2975)\n",
    "t.assertTrue(-266011 < logp3 < -266010)\n",
    "\n",
    "t.assertAlmostEqual(logp(utils.X1, utils.m1, utils.S1), logp1)"
   ]
  },
  {
   "cell_type": "code",
   "execution_count": null,
   "metadata": {},
   "outputs": [],
   "source": []
  }
 ],
 "metadata": {
  "kernelspec": {
   "display_name": "Python 3",
   "language": "python",
   "name": "python3"
  },
  "language_info": {
   "codemirror_mode": {
    "name": "ipython",
    "version": 3
   },
   "file_extension": ".py",
   "mimetype": "text/x-python",
   "name": "python",
   "nbconvert_exporter": "python",
   "pygments_lexer": "ipython3",
   "version": "3.8.5"
  }
 },
 "nbformat": 4,
 "nbformat_minor": 1
}
